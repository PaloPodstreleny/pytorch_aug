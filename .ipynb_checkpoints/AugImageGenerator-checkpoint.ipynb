{
 "cells": [
  {
   "cell_type": "code",
   "execution_count": 98,
   "metadata": {},
   "outputs": [],
   "source": [
    "import os\n",
    "import torch\n",
    "from torchvision import transforms, datasets\n",
    "from PIL import Image"
   ]
  },
  {
   "cell_type": "markdown",
   "metadata": {},
   "source": [
    "In this notebook, i will demostrate how to apply transformations on the training image and save this augumented image inside the same subfolders original image come from."
   ]
  },
  {
   "cell_type": "code",
   "execution_count": 99,
   "metadata": {},
   "outputs": [],
   "source": [
    "def get_subdir_names(sub_dirs):\n",
    "    \n",
    "    \"\"\"\n",
    "    Helper function for finding subdirectory names of directory\n",
    "    \n",
    "    Arg:\n",
    "    - sub_dirs: String that describe directory we want to find subdirectories in\n",
    "    \n",
    "    Return:\n",
    "    - list of subdirectory names\n",
    "\n",
    "    Example:\n",
    "    - sub_dirs = \"data/train\"\n",
    "     \n",
    "     data/train directory contains apple and banana subdirectories, data/train/apple/, data/train/banana/ \n",
    "     therefore we want to return list of subdirectory names \"apple\",\"banana\"\n",
    "    \"\"\"\n",
    "    \n",
    "    \n",
    "    i = 0\n",
    "    sub_dir_names = []\n",
    "    \n",
    "    for directory in sub_dirs:\n",
    "        if i == 0:\n",
    "            i+=1\n",
    "            continue\n",
    "        sub_dir_names.append(directory[0].split(\"/\")[2]) #data/train/banana -> banana\n",
    "    return sub_dir_names"
   ]
  },
  {
   "cell_type": "code",
   "execution_count": 100,
   "metadata": {},
   "outputs": [],
   "source": [
    "PATH_TO_TRAIN_DATA = \"data/train\"\n",
    "\n",
    "#Image format used for saving aug image\n",
    "IMAGE_FORMAT = \"jpeg\"\n",
    "\n",
    "# Define transformations you want to apply, in this case just apply horizontal flip with 100 probability\n",
    "transform = transforms.Compose([\n",
    "    transforms.RandomHorizontalFlip(p=1),\n",
    "    transforms.ToTensor(),\n",
    "])\n",
    "\n",
    "train_set = datasets.ImageFolder(root=PATH_TO_TRAIN_DATA,transform=transform)\n",
    "\n",
    "# Set batch_size to 1, we will iterrate over every image on which transformations are applied\n",
    "train_loader = torch.utils.data.DataLoader(train_set,batch_size=1,shuffle=False)\n",
    "\n",
    "sub_dirs = os.walk(PATH_TO_TRAIN_DATA)\n",
    "directories = get_subdir_names(sub_dirs)"
   ]
  },
  {
   "cell_type": "code",
   "execution_count": 101,
   "metadata": {},
   "outputs": [
    {
     "name": "stdout",
     "output_type": "stream",
     "text": [
      "Augumented apple image saved!\n",
      "Augumented apple image saved!\n",
      "Augumented banana image saved!\n",
      "Augumented banana image saved!\n"
     ]
    }
   ],
   "source": [
    "i = 0\n",
    "\n",
    "# Itterate over all training images one by one (batch_size=1)\n",
    "\n",
    "for images, label in train_loader:\n",
    "    \n",
    "    # Reshape image, get rid of batch dimension\n",
    "    shape = images.shape\n",
    "    image = images.view(shape[1],shape[2],shape[3])\n",
    "    \n",
    "    aug_image = transforms.functional.to_pil_image(image,mode=\"RGB\")\n",
    "    \n",
    "    folder_name = directories[label]\n",
    "    \n",
    "    aug_image.save(\n",
    "        \"{}/{}/{}_aug_{}.{}\".format(PATH_TO_TRAIN_DATA,folder_name,folder_name,i,IMAGE_FORMAT),\n",
    "        IMAGE_FORMAT, \n",
    "        quality=100, \n",
    "        optimize=True, \n",
    "        progressive=True)\n",
    "    \n",
    "    print(\"Augumented {} image saved!\".format(folder_name))\n",
    "    i += 1\n",
    "\n",
    "    "
   ]
  },
  {
   "cell_type": "code",
   "execution_count": null,
   "metadata": {},
   "outputs": [],
   "source": []
  }
 ],
 "metadata": {
  "kernelspec": {
   "display_name": "Python 3",
   "language": "python",
   "name": "python3"
  },
  "language_info": {
   "codemirror_mode": {
    "name": "ipython",
    "version": 3
   },
   "file_extension": ".py",
   "mimetype": "text/x-python",
   "name": "python",
   "nbconvert_exporter": "python",
   "pygments_lexer": "ipython3",
   "version": "3.7.3"
  }
 },
 "nbformat": 4,
 "nbformat_minor": 2
}
